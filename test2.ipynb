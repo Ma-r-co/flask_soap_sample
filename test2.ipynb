{
 "cells": [
  {
   "cell_type": "code",
   "execution_count": 1,
   "metadata": {},
   "outputs": [],
   "source": [
    "from lxml import etree\n",
    "\n"
   ]
  },
  {
   "cell_type": "code",
   "execution_count": 2,
   "metadata": {},
   "outputs": [
    {
     "name": "stdout",
     "output_type": "stream",
     "text": [
      "{'s': 'http://www.w3.org/2001/XMLSchema', 'soap12': 'http://schemas.xmlsoap.org/wsdl/soap12/', 'http': 'http://schemas.xmlsoap.org/wsdl/http/', 'mime': 'http://schemas.xmlsoap.org/wsdl/mime/', 'tns': 'https://www.w3schools.com/xml/', 'soap': 'http://schemas.xmlsoap.org/wsdl/soap/', 'tm': 'http://microsoft.com/wsdl/mime/textMatching/', 'soapenc': 'http://schemas.xmlsoap.org/soap/encoding/', 'wsdl': 'http://schemas.xmlsoap.org/wsdl/'}\n",
      "---------------------\n"
     ]
    }
   ],
   "source": [
    "\n",
    "wsdl = etree.parse('./src/tempconvert.wsdl')\n",
    "NSMAP = wsdl.getroot().nsmap\n",
    "print(NSMAP)\n",
    "print('---------------------')\n"
   ]
  },
  {
   "cell_type": "code",
   "execution_count": 4,
   "metadata": {},
   "outputs": [],
   "source": [
    "request_body = \"\"\"<soapenv:Envelope xmlns:soapenv=\"http://schemas.xmlsoap.org/soap/envelope/\" xmlns:ns=\"https://www.w3schools.com/xml/\">\n",
    "   <soapenv:Header/>\n",
    "   <soapenv:Body>\n",
    "      <ns:CelsiusToFahrenheit>\n",
    "         <ns:Celsius>20</ns:Celsius>\n",
    "      </ns:CelsiusToFahrenheit>\n",
    "   </soapenv:Body>\n",
    "</soapenv:Envelope>\n",
    "\"\"\"\n",
    "request_xml = etree.fromstring(request_body)\n"
   ]
  },
  {
   "cell_type": "code",
   "execution_count": 6,
   "metadata": {},
   "outputs": [
    {
     "data": {
      "text/plain": [
       "b'<ns:CelsiusToFahrenheit xmlns:ns=\"https://www.w3schools.com/xml/\" xmlns:soapenv=\"http://schemas.xmlsoap.org/soap/envelope/\">\\n         <ns:Celsius>20</ns:Celsius>\\n      </ns:CelsiusToFahrenheit>\\n   '"
      ]
     },
     "execution_count": 6,
     "metadata": {},
     "output_type": "execute_result"
    }
   ],
   "source": [
    "NSMAP=request_xml.nsmap\n",
    "soap_message = request_xml.find('soapenv:Body/*', namespaces=NSMAP)\n",
    "etree.tostring(soap_message)"
   ]
  },
  {
   "cell_type": "code",
   "execution_count": 18,
   "metadata": {},
   "outputs": [
    {
     "name": "stdout",
     "output_type": "stream",
     "text": [
      "20\n",
      "{'soapenv': 'http://schemas.xmlsoap.org/soap/envelope/', 'ns': 'https://www.w3schools.com/xml/'}\n"
     ]
    }
   ],
   "source": [
    "cdegree_text = soap_message.findtext('ns:Celsius', namespaces=soap_message.nsmap)\n",
    "print(cdegree_text)\n",
    "print(soap_message.nsmap)"
   ]
  },
  {
   "cell_type": "markdown",
   "metadata": {},
   "source": []
  }
 ],
 "metadata": {
  "kernelspec": {
   "display_name": ".venv",
   "language": "python",
   "name": "python3"
  },
  "language_info": {
   "codemirror_mode": {
    "name": "ipython",
    "version": 3
   },
   "file_extension": ".py",
   "mimetype": "text/x-python",
   "name": "python",
   "nbconvert_exporter": "python",
   "pygments_lexer": "ipython3",
   "version": "3.9.16"
  },
  "orig_nbformat": 4
 },
 "nbformat": 4,
 "nbformat_minor": 2
}
